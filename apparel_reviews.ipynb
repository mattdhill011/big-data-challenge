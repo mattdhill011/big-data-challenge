{
  "nbformat": 4,
  "nbformat_minor": 0,
  "metadata": {
    "colab": {
      "provenance": [],
      "authorship_tag": "ABX9TyPO3n8IECfDlPxH1TFaeFcM",
      "include_colab_link": true
    },
    "kernelspec": {
      "name": "python3",
      "display_name": "Python 3"
    },
    "language_info": {
      "name": "python"
    }
  },
  "cells": [
    {
      "cell_type": "markdown",
      "metadata": {
        "id": "view-in-github",
        "colab_type": "text"
      },
      "source": [
        "<a href=\"https://colab.research.google.com/github/mattdhill011/big-data-challenge/blob/main/apparel_reviews.ipynb\" target=\"_parent\"><img src=\"https://colab.research.google.com/assets/colab-badge.svg\" alt=\"Open In Colab\"/></a>"
      ]
    },
    {
      "cell_type": "code",
      "execution_count": 1,
      "metadata": {
        "colab": {
          "base_uri": "https://localhost:8080/"
        },
        "id": "S3KClFFJkkCy",
        "outputId": "4c65939a-e269-4e86-c491-d77a5404d86a"
      },
      "outputs": [
        {
          "output_type": "stream",
          "name": "stdout",
          "text": [
            "\r0% [Working]\r            \rGet:1 http://security.ubuntu.com/ubuntu bionic-security InRelease [88.7 kB]\n",
            "\r0% [Connecting to archive.ubuntu.com (185.125.190.39)] [1 InRelease 5,482 B/88.\r                                                                               \rGet:2 https://cloud.r-project.org/bin/linux/ubuntu bionic-cran40/ InRelease [3,626 B]\n",
            "\r0% [Waiting for headers] [1 InRelease 75.0 kB/88.7 kB 85%] [2 InRelease 0 B/3,6\r0% [Waiting for headers] [1 InRelease 88.7 kB/88.7 kB 100%] [Waiting for header\r                                                                               \r0% [Waiting for headers] [Waiting for headers] [Waiting for headers]\r0% [2 InRelease gpgv 3,626 B] [Waiting for headers] [Waiting for headers] [Wait\r                                                                               \rGet:3 http://ppa.launchpad.net/c2d4u.team/c2d4u4.0+/ubuntu bionic InRelease [15.9 kB]\n",
            "\r0% [2 InRelease gpgv 3,626 B] [Waiting for headers] [Waiting for headers] [3 In\r                                                                               \rHit:4 http://archive.ubuntu.com/ubuntu bionic InRelease\n",
            "\r0% [2 InRelease gpgv 3,626 B] [Waiting for headers] [Waiting for headers] [3 In\r                                                                               \rIgn:5 https://developer.download.nvidia.com/compute/machine-learning/repos/ubuntu1804/x86_64  InRelease\n",
            "\r0% [2 InRelease gpgv 3,626 B] [Waiting for headers] [Waiting for headers] [3 In\r                                                                               \rHit:6 https://developer.download.nvidia.com/compute/cuda/repos/ubuntu1804/x86_64  InRelease\n",
            "Hit:7 https://developer.download.nvidia.com/compute/machine-learning/repos/ubuntu1804/x86_64  Release\n",
            "Get:8 http://archive.ubuntu.com/ubuntu bionic-updates InRelease [88.7 kB]\n",
            "Hit:9 http://ppa.launchpad.net/cran/libgit2/ubuntu bionic InRelease\n",
            "Hit:10 http://ppa.launchpad.net/deadsnakes/ppa/ubuntu bionic InRelease\n",
            "Get:11 http://archive.ubuntu.com/ubuntu bionic-backports InRelease [74.6 kB]\n",
            "Get:12 http://security.ubuntu.com/ubuntu bionic-security/main amd64 Packages [2,965 kB]\n",
            "Hit:13 http://ppa.launchpad.net/graphics-drivers/ppa/ubuntu bionic InRelease\n",
            "Get:14 http://security.ubuntu.com/ubuntu bionic-security/universe amd64 Packages [1,540 kB]\n",
            "Get:16 http://ppa.launchpad.net/c2d4u.team/c2d4u4.0+/ubuntu bionic/main Sources [2,105 kB]\n",
            "Get:17 http://archive.ubuntu.com/ubuntu bionic-updates/main amd64 Packages [3,397 kB]\n",
            "Get:18 http://ppa.launchpad.net/c2d4u.team/c2d4u4.0+/ubuntu bionic/main amd64 Packages [1,079 kB]\n",
            "Get:19 http://archive.ubuntu.com/ubuntu bionic-updates/universe amd64 Packages [2,318 kB]\n",
            "Fetched 13.7 MB in 4s (3,056 kB/s)\n",
            "Reading package lists... Done\n"
          ]
        }
      ],
      "source": [
        "# Shamelessly copied from one of our in-class assignments\n",
        "\n",
        "\n",
        "import os\n",
        "# Find the latest version of spark 3.0  from http://www.apache.org/dist/spark/ and enter as the spark version\n",
        "# For example:\n",
        "# spark_version = 'spark-3.0.3'\n",
        "spark_version = 'spark-3.2.2'\n",
        "\n",
        "os.environ['SPARK_VERSION']=spark_version\n",
        "\n",
        "# Install Spark and Java\n",
        "!apt-get update\n",
        "!apt-get install openjdk-8-jdk-headless -qq > /dev/null\n",
        "!wget -q http://www.apache.org/dist/spark/$SPARK_VERSION/$SPARK_VERSION-bin-hadoop2.7.tgz\n",
        "!tar xf $SPARK_VERSION-bin-hadoop2.7.tgz\n",
        "!pip install -q findspark\n",
        "\n",
        "# Set Environment Variables\n",
        "os.environ[\"JAVA_HOME\"] = \"/usr/lib/jvm/java-8-openjdk-amd64\"\n",
        "os.environ[\"SPARK_HOME\"] = f\"/content/{spark_version}-bin-hadoop2.7\"\n",
        "\n",
        "# Start a SparkSession\n",
        "import findspark\n",
        "findspark.init()"
      ]
    },
    {
      "cell_type": "code",
      "source": [
        "from pyspark.sql import SparkSession\n",
        "spark = SparkSession.builder.appName(\"NLPTokens\").getOrCreate()"
      ],
      "metadata": {
        "id": "xPMtdVvukm9w"
      },
      "execution_count": 2,
      "outputs": []
    },
    {
      "cell_type": "code",
      "source": [
        "from pyspark.ml.feature import Tokenizer\n",
        "from pyspark.sql.functions import col, udf\n",
        "from pyspark.sql.types import IntegerType"
      ],
      "metadata": {
        "id": "hfPJ1Dwmkpse"
      },
      "execution_count": 3,
      "outputs": []
    },
    {
      "cell_type": "code",
      "source": [
        "from pyspark import SparkFiles\n",
        "\n",
        "apparel = \"https://s3.amazonaws.com/amazon-reviews-pds/tsv/amazon_reviews_us_Apparel_v1_00.tsv.gz\"\n",
        "spark.sparkContext.addFile(apparel)\n",
        "\n",
        "apparel_df = spark.read.csv(SparkFiles.get(\"amazon_reviews_us_Apparel_v1_00.tsv.gz\"), inferSchema=True, sep='\\t', header=True, timestampFormat=\"yyyy-mm-dd\")"
      ],
      "metadata": {
        "id": "-MueOCWtkr9o"
      },
      "execution_count": 4,
      "outputs": []
    },
    {
      "cell_type": "code",
      "source": [
        "apparel_df.show()"
      ],
      "metadata": {
        "colab": {
          "base_uri": "https://localhost:8080/"
        },
        "id": "AkCxKgTdkvwy",
        "outputId": "bd106363-d519-4d18-9bec-10d4a0eb16f1"
      },
      "execution_count": 5,
      "outputs": [
        {
          "output_type": "stream",
          "name": "stdout",
          "text": [
            "+-----------+-----------+--------------+----------+--------------+--------------------+----------------+-----------+-------------+-----------+----+-----------------+--------------------+--------------------+-------------------+\n",
            "|marketplace|customer_id|     review_id|product_id|product_parent|       product_title|product_category|star_rating|helpful_votes|total_votes|vine|verified_purchase|     review_headline|         review_body|        review_date|\n",
            "+-----------+-----------+--------------+----------+--------------+--------------------+----------------+-----------+-------------+-----------+----+-----------------+--------------------+--------------------+-------------------+\n",
            "|         US|   32158956|R1KKOXHNI8MSXU|B01KL6O72Y|      24485154|Easy Tool Stainle...|         Apparel|          4|            0|          0|   N|                Y|★ THESE REALLY DO...|These Really Do W...|2013-01-14 00:01:00|\n",
            "|         US|    2714559|R26SP2OPDK4HT7|B01ID3ZS5W|     363128556|V28 Women Cowl Ne...|         Apparel|          5|            1|          2|   N|                Y|Favorite for wint...|I love this dress...|2014-01-04 00:03:00|\n",
            "|         US|   12608825| RWQEDYAX373I1|B01I497BGY|     811958549|James Fiallo Men'...|         Apparel|          5|            0|          0|   N|                Y|Great Socks for t...|Nice socks, great...|2015-01-12 00:07:00|\n",
            "|         US|   25482800|R231YI7R4GPF6J|B01HDXFZK6|     692205728|Belfry Gangster 1...|         Apparel|          5|            0|          0|   N|                Y|          Slick hat!|I bought this for...|2015-01-03 00:06:00|\n",
            "|         US|    9310286|R3KO3W45DD0L1K|B01G6MBEBY|     431150422|JAEDEN Women's Be...|         Apparel|          5|            0|          0|   N|                Y|I would do it again!|Perfect dress and...|2015-01-12 00:06:00|\n",
            "|         US|   26631939|R1C4QH63NFL5NJ|B01FWRXN0Y|     366144407|Levi's Boys' 514 ...|         Apparel|          5|            0|          0|   N|                Y|          Five Stars|Excellent for my ...|2014-01-22 00:04:00|\n",
            "|         US|   48785098|R2GP65O1U9N7BP|B01EXNH1HE|     786052021|Minimalist Wallet...|         Apparel|          5|            0|          0|   N|                Y|            Love it!|Raw is the only w...|2015-01-28 00:07:00|\n",
            "|         US|   39548589|R3O29CT5MQQ3XQ|B01E7OL09O|     108920964|Harriton Men's Ba...|         Apparel|          4|            0|          0|   N|                Y|         Three Stars|        A bit large.|2015-01-10 00:07:00|\n",
            "|         US|   29355866|R1ZECD2AA8QFF6|B01DXHX81O|     317132458|Jockey Women's Un...|         Apparel|          5|            0|          0|   N|                Y|          Five Stars|          Great fit!|2015-01-09 00:08:00|\n",
            "|         US|   27477484|R2S79GCF6J89OA|B01DDULIJK|     110598191|Alexander Del Ros...|         Apparel|          3|            0|          0|   N|                Y|    Not my favorite.|Shirt a bit too l...|2014-01-24 00:05:00|\n",
            "|         US|   17685865|R1CBCUGNP37MPK|B01BOKOL4A|     121408017|Jockey Women's Un...|         Apparel|          5|            0|          0|   N|                Y|The Jockey Women'...|The Jockey Women'...|2015-01-10 00:06:00|\n",
            "|         US|   19787539|R3NU4WUR5ZNV1V|B01B3Q4Q0O|     134506082|Bali Passion For ...|         Apparel|          5|            0|          0|   N|                Y|          Five Stars|cup size is just ...|2013-01-06 00:09:00|\n",
            "|         US|   44196725|R32EPCJ3XF8LGE|B01ADDSL9U|     747539045|Lilyette Women's ...|         Apparel|          5|            0|          0|   N|                Y|          Five Stars|          Perfect...|2014-01-17 00:11:00|\n",
            "|         US|   45510794|R1XIBC6WQBW31M|B019P1X5XI|     696379847|Vanity Fair Women...|         Apparel|          5|            0|          0|   N|                Y|best ever4 for me...|best  ever4 for m...|2013-01-12 00:05:00|\n",
            "|         US|   42025740|R1P11MVDZ65LMH|B019MDXIXG|     387286513|Warner's Women's ...|         Apparel|          5|            0|          0|   N|                Y|          Five Stars|          Great fit.|2014-01-14 00:02:00|\n",
            "|         US|   27097189|R1OJA3DJL0VDDK|B019438FEG|     764190574|Columbia Women's ...|         Apparel|          5|            0|          0|   N|                Y|          Five Stars|I have this Colum...|2014-01-20 00:10:00|\n",
            "|         US|   13808904|R1THWA5YRJLOOF|B0178HGNIA|     816266887|Robes King RK Cla...|         Apparel|          4|            0|          0|   N|                Y|          Four Stars|My husband found ...|2015-01-05 00:07:00|\n",
            "|         US|   30225894| R738LCNRSJVXP|B016VIU0QI|     323924698|VIV Collection Be...|         Apparel|          5|            6|          7|   N|                Y|   Awesome leggings!|Awesome leggings!...|2015-01-29 00:07:00|\n",
            "|         US|   45223824|R1N3Z13931J3O9|B016PUU3VO|     893588059|Fruit of the Loom...|         Apparel|          2|            0|          0|   N|                Y|Sizes not correct...|I ordered the sam...|2015-01-01 00:01:00|\n",
            "|         US|   22300783|R1LBNTP7E8N89Z|B016AQNDM4|     917361125|Jockey Scrubs Wom...|         Apparel|          1|            0|          0|   N|                Y|            One Star| not exact in sizing|2015-01-12 00:02:00|\n",
            "+-----------+-----------+--------------+----------+--------------+--------------------+----------------+-----------+-------------+-----------+----+-----------------+--------------------+--------------------+-------------------+\n",
            "only showing top 20 rows\n",
            "\n"
          ]
        }
      ]
    },
    {
      "cell_type": "code",
      "source": [
        "count = apparel_df.count()\n",
        "\n",
        "print(f\"There are {count} rows in the dataset\")"
      ],
      "metadata": {
        "colab": {
          "base_uri": "https://localhost:8080/"
        },
        "id": "USb7Pt7Qlg-T",
        "outputId": "4356a115-ed73-45ef-9f1e-3d4ae9346b08"
      },
      "execution_count": 6,
      "outputs": [
        {
          "output_type": "stream",
          "name": "stdout",
          "text": [
            "There are 5906333 rows in the dataset\n"
          ]
        }
      ]
    },
    {
      "cell_type": "code",
      "source": [
        "# We use the printSchema() method to make sure that the table schema matches what we want in the shema file\n",
        "# this seems to be the case, so we don't have to do much more ETL than just selecting the relevant columns\n",
        "\n",
        "review_id_table = apparel_df.select([\"review_id\",\"customer_id\",\"product_id\",\"product_parent\",\"review_date\"])\n",
        "\n",
        "review_id_table.printSchema()\n",
        "review_id_table.show()"
      ],
      "metadata": {
        "colab": {
          "base_uri": "https://localhost:8080/"
        },
        "id": "AsuLb_Tjlo1O",
        "outputId": "d4e2e14f-9b3c-43e0-fd95-9ef93b3945a2"
      },
      "execution_count": 7,
      "outputs": [
        {
          "output_type": "stream",
          "name": "stdout",
          "text": [
            "root\n",
            " |-- review_id: string (nullable = true)\n",
            " |-- customer_id: integer (nullable = true)\n",
            " |-- product_id: string (nullable = true)\n",
            " |-- product_parent: integer (nullable = true)\n",
            " |-- review_date: timestamp (nullable = true)\n",
            "\n",
            "+--------------+-----------+----------+--------------+-------------------+\n",
            "|     review_id|customer_id|product_id|product_parent|        review_date|\n",
            "+--------------+-----------+----------+--------------+-------------------+\n",
            "|R1KKOXHNI8MSXU|   32158956|B01KL6O72Y|      24485154|2013-01-14 00:01:00|\n",
            "|R26SP2OPDK4HT7|    2714559|B01ID3ZS5W|     363128556|2014-01-04 00:03:00|\n",
            "| RWQEDYAX373I1|   12608825|B01I497BGY|     811958549|2015-01-12 00:07:00|\n",
            "|R231YI7R4GPF6J|   25482800|B01HDXFZK6|     692205728|2015-01-03 00:06:00|\n",
            "|R3KO3W45DD0L1K|    9310286|B01G6MBEBY|     431150422|2015-01-12 00:06:00|\n",
            "|R1C4QH63NFL5NJ|   26631939|B01FWRXN0Y|     366144407|2014-01-22 00:04:00|\n",
            "|R2GP65O1U9N7BP|   48785098|B01EXNH1HE|     786052021|2015-01-28 00:07:00|\n",
            "|R3O29CT5MQQ3XQ|   39548589|B01E7OL09O|     108920964|2015-01-10 00:07:00|\n",
            "|R1ZECD2AA8QFF6|   29355866|B01DXHX81O|     317132458|2015-01-09 00:08:00|\n",
            "|R2S79GCF6J89OA|   27477484|B01DDULIJK|     110598191|2014-01-24 00:05:00|\n",
            "|R1CBCUGNP37MPK|   17685865|B01BOKOL4A|     121408017|2015-01-10 00:06:00|\n",
            "|R3NU4WUR5ZNV1V|   19787539|B01B3Q4Q0O|     134506082|2013-01-06 00:09:00|\n",
            "|R32EPCJ3XF8LGE|   44196725|B01ADDSL9U|     747539045|2014-01-17 00:11:00|\n",
            "|R1XIBC6WQBW31M|   45510794|B019P1X5XI|     696379847|2013-01-12 00:05:00|\n",
            "|R1P11MVDZ65LMH|   42025740|B019MDXIXG|     387286513|2014-01-14 00:02:00|\n",
            "|R1OJA3DJL0VDDK|   27097189|B019438FEG|     764190574|2014-01-20 00:10:00|\n",
            "|R1THWA5YRJLOOF|   13808904|B0178HGNIA|     816266887|2015-01-05 00:07:00|\n",
            "| R738LCNRSJVXP|   30225894|B016VIU0QI|     323924698|2015-01-29 00:07:00|\n",
            "|R1N3Z13931J3O9|   45223824|B016PUU3VO|     893588059|2015-01-01 00:01:00|\n",
            "|R1LBNTP7E8N89Z|   22300783|B016AQNDM4|     917361125|2015-01-12 00:02:00|\n",
            "+--------------+-----------+----------+--------------+-------------------+\n",
            "only showing top 20 rows\n",
            "\n"
          ]
        }
      ]
    },
    {
      "cell_type": "code",
      "source": [
        "products = apparel_df.select([\"product_id\", \"product_title\"]).distinct()\n",
        "products.printSchema()\n",
        "products.show()"
      ],
      "metadata": {
        "colab": {
          "base_uri": "https://localhost:8080/"
        },
        "id": "rWED0GaJl3_W",
        "outputId": "a882f267-9fd3-4f72-d144-2a556bff08fc"
      },
      "execution_count": 9,
      "outputs": [
        {
          "output_type": "stream",
          "name": "stdout",
          "text": [
            "root\n",
            " |-- product_id: string (nullable = true)\n",
            " |-- product_title: string (nullable = true)\n",
            "\n",
            "+----------+--------------------+\n",
            "|product_id|       product_title|\n",
            "+----------+--------------------+\n",
            "|9822497415|Tommy Bahama Bird...|\n",
            "|B00006AW85|John Deere Sweats...|\n",
            "|B00006LFGJ|Women's Black Fle...|\n",
            "|B00006THQ5|Roberto Coin Star...|\n",
            "|B00006WMIV|Microfiber Contou...|\n",
            "|B00006WRFU|Kenneth Cole Reac...|\n",
            "|B00006X1WG|Undergear Cotton ...|\n",
            "|B00006XJ1C|Silk Noile Trouse...|\n",
            "|B00007EUVW|LEVIS SALT STAIN ...|\n",
            "|B00007GBIJ|        Custom Rolex|\n",
            "|B00007ID05|Deluxe Arctic Sur...|\n",
            "|B0000863G5|108 Fgh40 Ecru Le...|\n",
            "|B00008IOAK|Braza Reveal Clot...|\n",
            "|B00008NRDU|           SWEET TEE|\n",
            "|B00008NSOG|Reaction Kenneth ...|\n",
            "|B00008ZGCO| UTILITY CARGO CAPRI|\n",
            "|B00009KEIJ|Women's Mossimo E...|\n",
            "|B00009YRTH|Thermal Crewneck ...|\n",
            "|B0000ASFXX|Carhartt Men's Qu...|\n",
            "|B0000CC55O|Youth M A1 Jacket...|\n",
            "+----------+--------------------+\n",
            "only showing top 20 rows\n",
            "\n"
          ]
        }
      ]
    },
    {
      "cell_type": "code",
      "source": [
        "# I'm not 100% sure what the customer_count column is supposed to be, \n",
        "# so I assumed that it is looking for the count of how often each customer appears in the dataset\n",
        "\n",
        "from pyspark.sql.functions import countDistinct\n",
        "\n",
        "# First we group by customer_id, the for each group we use the countDistinct function to count how many distinct reviews were left by each cutsomer\n",
        "# Then using the withColumnRenamed method we rename the column from the default (count(review_id)) to the \"customer_count\" name we want\n",
        "customers = apparel_df.groupBy(\"customer_id\").agg(countDistinct('review_id')).withColumnRenamed(\"count(review_id)\", \"customer_count\")\n",
        "customers.printSchema()\n",
        "customers.show()"
      ],
      "metadata": {
        "colab": {
          "base_uri": "https://localhost:8080/"
        },
        "id": "9CJK4ihYmI1Q",
        "outputId": "404217c9-7d3d-4ef3-ca54-142d2d4a2329"
      },
      "execution_count": 12,
      "outputs": [
        {
          "output_type": "stream",
          "name": "stdout",
          "text": [
            "root\n",
            " |-- customer_id: integer (nullable = true)\n",
            " |-- customer_count: long (nullable = false)\n",
            "\n",
            "+-----------+--------------+\n",
            "|customer_id|customer_count|\n",
            "+-----------+--------------+\n",
            "|      10206|             1|\n",
            "|      15957|            10|\n",
            "|      18051|             4|\n",
            "|      18979|             1|\n",
            "|      19079|             2|\n",
            "|      20497|             1|\n",
            "|      22373|             1|\n",
            "|      26087|             1|\n",
            "|      28088|             1|\n",
            "|      28759|             1|\n",
            "|      31367|             1|\n",
            "|      32396|             2|\n",
            "|      32855|             1|\n",
            "|      38422|             1|\n",
            "|      41409|             1|\n",
            "|      51123|             2|\n",
            "|      53963|             1|\n",
            "|      60769|             1|\n",
            "|      63155|             1|\n",
            "|      69352|             2|\n",
            "+-----------+--------------+\n",
            "only showing top 20 rows\n",
            "\n"
          ]
        }
      ]
    },
    {
      "cell_type": "code",
      "source": [
        "vine_table = apparel_df.select([\"review_id\", \"star_rating\", \"helpful_votes\", \"total_votes\", \"vine\"])\n",
        "vine_table.printSchema()\n",
        "vine_table.show()"
      ],
      "metadata": {
        "colab": {
          "base_uri": "https://localhost:8080/"
        },
        "id": "b58bGYa1m8Ty",
        "outputId": "28b1cfdc-6665-462a-f113-11393c8611e4"
      },
      "execution_count": 13,
      "outputs": [
        {
          "output_type": "stream",
          "name": "stdout",
          "text": [
            "root\n",
            " |-- review_id: string (nullable = true)\n",
            " |-- star_rating: integer (nullable = true)\n",
            " |-- helpful_votes: integer (nullable = true)\n",
            " |-- total_votes: integer (nullable = true)\n",
            " |-- vine: string (nullable = true)\n",
            "\n",
            "+--------------+-----------+-------------+-----------+----+\n",
            "|     review_id|star_rating|helpful_votes|total_votes|vine|\n",
            "+--------------+-----------+-------------+-----------+----+\n",
            "|R1KKOXHNI8MSXU|          4|            0|          0|   N|\n",
            "|R26SP2OPDK4HT7|          5|            1|          2|   N|\n",
            "| RWQEDYAX373I1|          5|            0|          0|   N|\n",
            "|R231YI7R4GPF6J|          5|            0|          0|   N|\n",
            "|R3KO3W45DD0L1K|          5|            0|          0|   N|\n",
            "|R1C4QH63NFL5NJ|          5|            0|          0|   N|\n",
            "|R2GP65O1U9N7BP|          5|            0|          0|   N|\n",
            "|R3O29CT5MQQ3XQ|          4|            0|          0|   N|\n",
            "|R1ZECD2AA8QFF6|          5|            0|          0|   N|\n",
            "|R2S79GCF6J89OA|          3|            0|          0|   N|\n",
            "|R1CBCUGNP37MPK|          5|            0|          0|   N|\n",
            "|R3NU4WUR5ZNV1V|          5|            0|          0|   N|\n",
            "|R32EPCJ3XF8LGE|          5|            0|          0|   N|\n",
            "|R1XIBC6WQBW31M|          5|            0|          0|   N|\n",
            "|R1P11MVDZ65LMH|          5|            0|          0|   N|\n",
            "|R1OJA3DJL0VDDK|          5|            0|          0|   N|\n",
            "|R1THWA5YRJLOOF|          4|            0|          0|   N|\n",
            "| R738LCNRSJVXP|          5|            6|          7|   N|\n",
            "|R1N3Z13931J3O9|          2|            0|          0|   N|\n",
            "|R1LBNTP7E8N89Z|          1|            0|          0|   N|\n",
            "+--------------+-----------+-------------+-----------+----+\n",
            "only showing top 20 rows\n",
            "\n"
          ]
        }
      ]
    }
  ]
}